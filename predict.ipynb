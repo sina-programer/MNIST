{
 "cells": [
  {
   "cell_type": "code",
   "execution_count": 1,
   "id": "ba9b0723",
   "metadata": {},
   "outputs": [],
   "source": [
    "from tensorflow.keras.models import load_model\n",
    "from matplotlib import pyplot as plt\n",
    "import numpy as np\n",
    "import glob\n",
    "import os"
   ]
  },
  {
   "cell_type": "code",
   "execution_count": 2,
   "id": "adb67a00-058e-4173-b95d-da2d497a77a6",
   "metadata": {},
   "outputs": [],
   "source": [
    "import pickle\n",
    "\n",
    "def load(path):\n",
    "    with open(path, 'rb') as handler:\n",
    "        return pickle.load(handler)"
   ]
  },
  {
   "cell_type": "code",
   "execution_count": 3,
   "id": "2d75b1b9",
   "metadata": {},
   "outputs": [],
   "source": [
    "def pure_filename(path):\n",
    "    filedir, filename = os.path.split(path)\n",
    "    basename, extension = os.path.splitext(filename)\n",
    "    return basename"
   ]
  },
  {
   "cell_type": "code",
   "execution_count": 4,
   "id": "2e834cee",
   "metadata": {},
   "outputs": [],
   "source": [
    "def show_image(image, title=''):\n",
    "    plt.imshow(image, cmap=plt.cm.gray_r)\n",
    "    plt.title(title)\n",
    "    plt.show()"
   ]
  },
  {
   "cell_type": "code",
   "execution_count": 5,
   "id": "cb9dc7de",
   "metadata": {},
   "outputs": [],
   "source": [
    "X = np.load('Data/x_test.npy') / 255\n",
    "y = np.load('Data/y_test.npy')"
   ]
  },
  {
   "cell_type": "code",
   "execution_count": 6,
   "id": "38bc7e83",
   "metadata": {},
   "outputs": [],
   "source": [
    "ml_model_paths = glob.glob('models/*.h5')\n",
    "nn_model_paths = glob.glob('models/*.keras')"
   ]
  },
  {
   "cell_type": "code",
   "execution_count": 7,
   "id": "544d9c88",
   "metadata": {},
   "outputs": [],
   "source": [
    "ml_models = dict(zip(map(pure_filename, ml_model_paths), map(load, ml_model_paths)))\n",
    "nn_models = dict(zip(map(pure_filename, nn_model_paths), map(load_model, nn_model_paths)))"
   ]
  },
  {
   "cell_type": "code",
   "execution_count": 8,
   "id": "ac03e3cb",
   "metadata": {},
   "outputs": [
    {
     "data": {
      "image/png": "[encoded data removed]",
      "text/plain": [
       "<Figure size 640x480 with 1 Axes>"
      ]
     },
     "metadata": {},
     "output_type": "display_data"
    },
    {
     "name": "stdout",
     "output_type": "stream",
     "text": [
      "DecisionTreeClassifier: 7\n",
      "KNeighborsClassifier: 7\n",
      "RandomForestClassifier: 7\n",
      "SVC: 7\n",
      "CNN: 7\n",
      "MLP: 7\n"
     ]
    }
   ],
   "source": [
    "idx = 36\n",
    "image = X[idx]\n",
    "show_image(image, title=y[idx])\n",
    "\n",
    "image_ml = image.reshape(len(image)**2)\n",
    "for name, model in ml_models.items():\n",
    "    print(f\"{name}: {model.predict([image_ml])[0]}\")\n",
    "\n",
    "image_nn = np.expand_dims(image, axis=0)\n",
    "for name, model in nn_models.items():\n",
    "    print(f\"{name}: {np.argmax(model.predict(image_nn, verbose=0)[0])}\")"
   ]
  }
 ],
 "metadata": {
  "kernelspec": {
   "display_name": "Python 3 (ipykernel)",
   "language": "python",
   "name": "python3"
  },
  "language_info": {
   "codemirror_mode": {
    "name": "ipython",
    "version": 3
   },
   "file_extension": ".py",
   "mimetype": "text/x-python",
   "name": "python",
   "nbconvert_exporter": "python",
   "pygments_lexer": "ipython3",
   "version": "3.10.4"
  }
 },
 "nbformat": 4,
 "nbformat_minor": 5
}
