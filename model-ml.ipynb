{
 "cells": [
  {
   "cell_type": "code",
   "execution_count": 1,
   "id": "0eed6158",
   "metadata": {},
   "outputs": [],
   "source": [
    "import os\n",
    "\n",
    "directory = 'models'\n",
    "if not os.path.exists(directory):\n",
    "    os.mkdir(directory)"
   ]
  },
  {
   "cell_type": "code",
   "execution_count": 2,
   "id": "fe3a463e-da4b-4c5e-9d07-aad67674e608",
   "metadata": {},
   "outputs": [],
   "source": [
    "import pickle\n",
    "\n",
    "def save(obj, path):\n",
    "    with open(path, 'wb') as handler:\n",
    "        return pickle.dump(obj, handler)"
   ]
  },
  {
   "cell_type": "code",
   "execution_count": 3,
   "id": "5c13db67-ac98-40b4-97a4-d5047a00250f",
   "metadata": {},
   "outputs": [],
   "source": [
    "# from sklearn.model_selection import train_test_split\n",
    "# from sklearn import datasets\n",
    "\n",
    "# dataset = datasets.load_digits()\n",
    "\n",
    "# # X = dataset.images.reshape(len(data.images), -1)  # flat images\n",
    "# X = dataset.data\n",
    "# y = dataset.target\n",
    "\n",
    "# X_train, X_test, y_train, y_test = train_test_split(X, y)"
   ]
  },
  {
   "cell_type": "code",
   "execution_count": 4,
   "id": "9103b2fb",
   "metadata": {},
   "outputs": [
    {
     "name": "stdout",
     "output_type": "stream",
     "text": [
      "Data Shape:  (784,)\n"
     ]
    }
   ],
   "source": [
    "import numpy as np\n",
    "\n",
    "X_train = np.load('Data/x_train.npy') / 255\n",
    "X_test = np.load('Data/x_test.npy') / 255\n",
    "y_train = np.load('Data/y_train.npy')\n",
    "y_test = np.load('Data/y_test.npy')\n",
    "\n",
    "X_train = X_train.reshape(len(X_train), -1)\n",
    "X_test = X_test.reshape(len(X_test), -1)\n",
    "\n",
    "print('Data Shape: ', np.shape(X_train)[1:])"
   ]
  },
  {
   "cell_type": "code",
   "execution_count": 5,
   "id": "d2cb7ceb-b414-4dad-8172-ef5b9d3e1589",
   "metadata": {},
   "outputs": [
    {
     "name": "stdout",
     "output_type": "stream",
     "text": [
      "Processing RandomForestClassifier\n",
      "Processing DecisionTreeClassifier\n",
      "Processing KNeighborsClassifier\n",
      "Processing SVC\n"
     ]
    }
   ],
   "source": [
    "from sklearn.ensemble import RandomForestClassifier\n",
    "from sklearn.neighbors import KNeighborsClassifier\n",
    "from sklearn.tree import DecisionTreeClassifier\n",
    "from sklearn.svm import SVC\n",
    "\n",
    "models = {}\n",
    "model_builders = [\n",
    "    RandomForestClassifier,\n",
    "    DecisionTreeClassifier,\n",
    "    KNeighborsClassifier,\n",
    "    SVC\n",
    "]\n",
    "\n",
    "for builder in model_builders:\n",
    "    print('Processing', builder.__name__)\n",
    "    models[builder.__name__] = builder().fit(X_train, y_train)\n",
    "    save(models[builder.__name__], os.path.join(directory, builder.__name__+'.h5'))"
   ]
  },
  {
   "cell_type": "code",
   "execution_count": 6,
   "id": "92337204",
   "metadata": {},
   "outputs": [
    {
     "name": "stdout",
     "output_type": "stream",
     "text": [
      "RandomForestClassifier: 0.969\n",
      "DecisionTreeClassifier: 0.878\n",
      "KNeighborsClassifier: 0.969\n",
      "SVC: 0.979\n"
     ]
    }
   ],
   "source": [
    "for name, model in models.items():\n",
    "    print(f\"{name}: {model.score(X_test, y_test):.3f}\")"
   ]
  }
 ],
 "metadata": {
  "kernelspec": {
   "display_name": "Python 3 (ipykernel)",
   "language": "python",
   "name": "python3"
  },
  "language_info": {
   "codemirror_mode": {
    "name": "ipython",
    "version": 3
   },
   "file_extension": ".py",
   "mimetype": "text/x-python",
   "name": "python",
   "nbconvert_exporter": "python",
   "pygments_lexer": "ipython3",
   "version": "3.10.4"
  }
 },
 "nbformat": 4,
 "nbformat_minor": 5
}
