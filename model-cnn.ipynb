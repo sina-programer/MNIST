{
 "cells": [
  {
   "cell_type": "code",
   "execution_count": 1,
   "id": "5b6c4c7d-6b9f-411c-976b-e763054a51e1",
   "metadata": {},
   "outputs": [],
   "source": [
    "from tensorflow.keras.layers import Flatten, Dense, Conv2D, Dropout, MaxPool2D, ZeroPadding2D\n",
    "from tensorflow.keras.utils import to_categorical\n",
    "from tensorflow.keras.models import Sequential\n",
    "from matplotlib import pyplot as plt\n",
    "from sklearn import metrics\n",
    "import numpy as np\n",
    "import os"
   ]
  },
  {
   "cell_type": "code",
   "execution_count": 2,
   "id": "8f46d77c",
   "metadata": {},
   "outputs": [],
   "source": [
    "directory = 'models'\n",
    "if not os.path.exists(directory):\n",
    "    os.mkdir(directory)"
   ]
  },
  {
   "cell_type": "code",
   "execution_count": 3,
   "id": "0131b8ae-06e8-43a3-8d14-0cdff3da8fa8",
   "metadata": {},
   "outputs": [
    {
     "name": "stdout",
     "output_type": "stream",
     "text": [
      "Data Shape:  (28, 28)\n"
     ]
    }
   ],
   "source": [
    "X_train = np.load('Data/x_train.npy')\n",
    "X_test = np.load('Data/x_test.npy')\n",
    "y_train = np.load('Data/y_train.npy')\n",
    "y_test = np.load('Data/y_test.npy')\n",
    "\n",
    "print('Data Shape: ', np.shape(X_train)[1:])"
   ]
  },
  {
   "cell_type": "code",
   "execution_count": 4,
   "id": "2dd2866c-1bcb-4002-8080-8c77c1c4a6b9",
   "metadata": {},
   "outputs": [],
   "source": [
    "# scaling data\n",
    "X_train = X_train / 255\n",
    "X_test = X_test / 255"
   ]
  },
  {
   "cell_type": "code",
   "execution_count": 5,
   "id": "e09ca749-4121-43de-aa39-c399dcd3c479",
   "metadata": {},
   "outputs": [],
   "source": [
    "# convert each number into a single-item array (for gray-scale images, for rgb images a 3-item array)\n",
    "X_train = np.expand_dims(X_train, axis=3)\n",
    "X_test = np.expand_dims(X_test, axis=3)"
   ]
  },
  {
   "cell_type": "code",
   "execution_count": 6,
   "id": "039c2137-a5d2-4d0c-85c8-a98f01e48e84",
   "metadata": {},
   "outputs": [],
   "source": [
    "# One Hot Encode\n",
    "y_train_ohe = to_categorical(y_train)\n",
    "y_test_ohe = to_categorical(y_test)"
   ]
  },
  {
   "cell_type": "code",
   "execution_count": 7,
   "id": "2f0f64b3-7240-419d-8ea1-d20c98af75d8",
   "metadata": {},
   "outputs": [],
   "source": [
    "model = Sequential([\n",
    "    ZeroPadding2D(padding=(1, 1), input_shape=X_train[0].shape),  # instead of <padding='same'>\n",
    "    Conv2D(32, 3, activation='relu'),\n",
    "    MaxPool2D(pool_size=2, strides=2),\n",
    "    Conv2D(64, 3, activation='relu', padding='same'),\n",
    "    MaxPool2D(2, 2),\n",
    "\n",
    "    Flatten(),\n",
    "    Dense(128, activation='relu'),\n",
    "    Dropout(.2),\n",
    "    Dense(10, activation='softmax')\n",
    "])\n",
    "\n",
    "model.compile(\n",
    "    optimizer='adam',\n",
    "    loss='categorical_crossentropy',\n",
    "    metrics=['accuracy']\n",
    ")"
   ]
  },
  {
   "cell_type": "code",
   "execution_count": 8,
   "id": "1050e4cd-20c7-4025-8fe5-db7137f7107b",
   "metadata": {},
   "outputs": [
    {
     "name": "stdout",
     "output_type": "stream",
     "text": [
      "Model: \"sequential\"\n",
      "_________________________________________________________________\n",
      " Layer (type)                Output Shape              Param #   \n",
      "=================================================================\n",
      " zero_padding2d (ZeroPaddin  (None, 30, 30, 1)         0         \n",
      " g2D)                                                            \n",
      "                                                                 \n",
      " conv2d (Conv2D)             (None, 28, 28, 32)        320       \n",
      "                                                                 \n",
      " max_pooling2d (MaxPooling2  (None, 14, 14, 32)        0         \n",
      " D)                                                              \n",
      "                                                                 \n",
      " conv2d_1 (Conv2D)           (None, 14, 14, 64)        18496     \n",
      "                                                                 \n",
      " max_pooling2d_1 (MaxPoolin  (None, 7, 7, 64)          0         \n",
      " g2D)                                                            \n",
      "                                                                 \n",
      " flatten (Flatten)           (None, 3136)              0         \n",
      "                                                                 \n",
      " dense (Dense)               (None, 128)               401536    \n",
      "                                                                 \n",
      " dropout (Dropout)           (None, 128)               0         \n",
      "                                                                 \n",
      " dense_1 (Dense)             (None, 10)                1290      \n",
      "                                                                 \n",
      "=================================================================\n",
      "Total params: 421642 (1.61 MB)\n",
      "Trainable params: 421642 (1.61 MB)\n",
      "Non-trainable params: 0 (0.00 Byte)\n",
      "_________________________________________________________________\n"
     ]
    }
   ],
   "source": [
    "model.summary()"
   ]
  },
  {
   "cell_type": "code",
   "execution_count": 9,
   "id": "9b7ccbbf-12a6-401f-8af3-8998352aac88",
   "metadata": {},
   "outputs": [
    {
     "name": "stdout",
     "output_type": "stream",
     "text": [
      "Epoch 1/10\n",
      "200/200 [==============================] - 52s 254ms/step - loss: 0.3209 - accuracy: 0.9048 - val_loss: 0.0690 - val_accuracy: 0.9773\n",
      "Epoch 2/10\n",
      "200/200 [==============================] - 47s 232ms/step - loss: 0.0775 - accuracy: 0.9766 - val_loss: 0.0451 - val_accuracy: 0.9858\n",
      "Epoch 3/10\n",
      "200/200 [==============================] - 44s 222ms/step - loss: 0.0544 - accuracy: 0.9832 - val_loss: 0.0356 - val_accuracy: 0.9870\n",
      "Epoch 4/10\n",
      "200/200 [==============================] - 47s 234ms/step - loss: 0.0405 - accuracy: 0.9874 - val_loss: 0.0343 - val_accuracy: 0.9886\n",
      "Epoch 5/10\n",
      "200/200 [==============================] - 49s 247ms/step - loss: 0.0334 - accuracy: 0.9894 - val_loss: 0.0275 - val_accuracy: 0.9904\n",
      "Epoch 6/10\n",
      "200/200 [==============================] - 50s 249ms/step - loss: 0.0289 - accuracy: 0.9907 - val_loss: 0.0246 - val_accuracy: 0.9914\n",
      "Epoch 7/10\n",
      "200/200 [==============================] - 50s 250ms/step - loss: 0.0244 - accuracy: 0.9929 - val_loss: 0.0267 - val_accuracy: 0.9903\n",
      "Epoch 8/10\n",
      "200/200 [==============================] - 51s 254ms/step - loss: 0.0204 - accuracy: 0.9934 - val_loss: 0.0238 - val_accuracy: 0.9926\n",
      "Epoch 9/10\n",
      "200/200 [==============================] - 55s 275ms/step - loss: 0.0188 - accuracy: 0.9936 - val_loss: 0.0228 - val_accuracy: 0.9911\n",
      "Epoch 10/10\n",
      "200/200 [==============================] - 48s 239ms/step - loss: 0.0157 - accuracy: 0.9946 - val_loss: 0.0241 - val_accuracy: 0.9914\n"
     ]
    }
   ],
   "source": [
    "history = model.fit(X_train, y_train_ohe, epochs=10, validation_data=(X_test, y_test_ohe), batch_size=300).history"
   ]
  },
  {
   "cell_type": "code",
   "execution_count": 10,
   "id": "633692ac",
   "metadata": {},
   "outputs": [
    {
     "data": {
      "image/png": "[encoded data removed]",
      "text/plain": [
       "<Figure size 640x480 with 1 Axes>"
      ]
     },
     "metadata": {},
     "output_type": "display_data"
    }
   ],
   "source": [
    "plt.plot(history['accuracy'], color='green', label='Train')\n",
    "plt.plot(history['val_accuracy'], color='red', label='Validation')\n",
    "plt.title('Accuracy')\n",
    "plt.legend()\n",
    "plt.show()"
   ]
  },
  {
   "cell_type": "code",
   "execution_count": 11,
   "id": "8bead514",
   "metadata": {},
   "outputs": [],
   "source": [
    "model.save(os.path.join(directory, \"CNN.keras\"))"
   ]
  },
  {
   "cell_type": "code",
   "execution_count": 12,
   "id": "f08561f9",
   "metadata": {},
   "outputs": [
    {
     "name": "stdout",
     "output_type": "stream",
     "text": [
      "313/313 [==============================] - 4s 11ms/step\n",
      "              precision    recall  f1-score   support\n",
      "\n",
      "           0       0.99      1.00      0.99       980\n",
      "           1       0.99      1.00      0.99      1135\n",
      "           2       0.99      0.99      0.99      1032\n",
      "           3       0.99      0.99      0.99      1010\n",
      "           4       0.99      0.99      0.99       982\n",
      "           5       0.99      0.99      0.99       892\n",
      "           6       1.00      0.99      0.99       958\n",
      "           7       0.99      0.99      0.99      1028\n",
      "           8       0.99      0.99      0.99       974\n",
      "           9       0.99      0.99      0.99      1009\n",
      "\n",
      "    accuracy                           0.99     10000\n",
      "   macro avg       0.99      0.99      0.99     10000\n",
      "weighted avg       0.99      0.99      0.99     10000\n",
      "\n"
     ]
    }
   ],
   "source": [
    "y_pred_ohe = model.predict(X_test)\n",
    "y_pred = list(map(np.argmax, y_pred_ohe))\n",
    "print(metrics.classification_report(y_test, y_pred))"
   ]
  }
 ],
 "metadata": {
  "kernelspec": {
   "display_name": "Python 3 (ipykernel)",
   "language": "python",
   "name": "python3"
  },
  "language_info": {
   "codemirror_mode": {
    "name": "ipython",
    "version": 3
   },
   "file_extension": ".py",
   "mimetype": "text/x-python",
   "name": "python",
   "nbconvert_exporter": "python",
   "pygments_lexer": "ipython3",
   "version": "3.10.4"
  }
 },
 "nbformat": 4,
 "nbformat_minor": 5
}
