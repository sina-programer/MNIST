{
 "cells": [
  {
   "cell_type": "code",
   "execution_count": 1,
   "id": "d3a1a0e1",
   "metadata": {},
   "outputs": [],
   "source": [
    "from matplotlib import pyplot as plt\n",
    "import tensorflow_datasets\n",
    "import tensorflow as tf\n",
    "import numpy as np"
   ]
  },
  {
   "cell_type": "code",
   "execution_count": 2,
   "id": "a436fb70",
   "metadata": {},
   "outputs": [],
   "source": [
    "def normilize(image, label):\n",
    "    return tf.cast(image, tf.float32) / 256, label"
   ]
  },
  {
   "cell_type": "code",
   "execution_count": 3,
   "id": "886005e8",
   "metadata": {},
   "outputs": [],
   "source": [
    "(train, test), info = tensorflow_datasets.load('mnist', split=['train', 'test'], as_supervised=True, with_info=True)"
   ]
  },
  {
   "cell_type": "code",
   "execution_count": 4,
   "id": "a5ac7036",
   "metadata": {},
   "outputs": [
    {
     "data": {
      "text/plain": [
       "{'train': <SplitInfo num_examples=60000, num_shards=1>,\n",
       " 'test': <SplitInfo num_examples=10000, num_shards=1>}"
      ]
     },
     "execution_count": 4,
     "metadata": {},
     "output_type": "execute_result"
    }
   ],
   "source": [
    "info.splits"
   ]
  },
  {
   "cell_type": "code",
   "execution_count": 5,
   "id": "ef429428",
   "metadata": {},
   "outputs": [],
   "source": [
    "train = train.map(normilize)\n",
    "train = train.cache()\n",
    "train = train.shuffle(info.splits['train'].num_examples)\n",
    "train = train.batch(256)\n",
    "train = train.prefetch(tf.data.experimental.AUTOTUNE)"
   ]
  },
  {
   "cell_type": "code",
   "execution_count": 6,
   "id": "7b2581f0",
   "metadata": {},
   "outputs": [],
   "source": [
    "test = test.map(normilize)\n",
    "test = test.cache()\n",
    "test = test.batch(256)\n",
    "test = test.prefetch(tf.data.experimental.AUTOTUNE)"
   ]
  },
  {
   "cell_type": "code",
   "execution_count": 7,
   "id": "2994ddc9",
   "metadata": {},
   "outputs": [],
   "source": [
    "model = tf.keras.models.Sequential([\n",
    "    tf.keras.layers.Flatten(input_shape=(28, 28)),\n",
    "    tf.keras.layers.Dropout(.15),\n",
    "    tf.keras.layers.Dense(128, activation='linear'),\n",
    "    tf.keras.layers.LeakyReLU(),\n",
    "    tf.keras.layers.Dropout(.1),\n",
    "    tf.keras.layers.Dense(64, activation='relu'),\n",
    "    tf.keras.layers.Dense(32, activation='relu'),\n",
    "    tf.keras.layers.Dense(16, activation='relu'),\n",
    "    tf.keras.layers.Dense(10, activation='softmax')\n",
    "])"
   ]
  },
  {
   "cell_type": "code",
   "execution_count": 8,
   "id": "d10c295d",
   "metadata": {},
   "outputs": [],
   "source": [
    "model.compile(\n",
    "    optimizer = tf.keras.optimizers.Adam(.001),\n",
    "    loss = tf.keras.losses.SparseCategoricalCrossentropy(from_logits=True),\n",
    "    metrics = [tf.keras.metrics.SparseCategoricalAccuracy()]\n",
    ")"
   ]
  },
  {
   "cell_type": "code",
   "execution_count": 9,
   "id": "ca2887f6",
   "metadata": {},
   "outputs": [
    {
     "name": "stdout",
     "output_type": "stream",
     "text": [
      "Epoch 1/15\n",
      "235/235 [==============================] - 7s 14ms/step - loss: 0.6131 - sparse_categorical_accuracy: 0.8143 - val_loss: 0.2307 - val_sparse_categorical_accuracy: 0.9353\n",
      "Epoch 2/15\n",
      "235/235 [==============================] - 2s 9ms/step - loss: 0.2456 - sparse_categorical_accuracy: 0.9279 - val_loss: 0.1648 - val_sparse_categorical_accuracy: 0.9528\n",
      "Epoch 3/15\n",
      "235/235 [==============================] - 2s 9ms/step - loss: 0.1913 - sparse_categorical_accuracy: 0.9433 - val_loss: 0.1442 - val_sparse_categorical_accuracy: 0.9578\n",
      "Epoch 4/15\n",
      "235/235 [==============================] - 2s 8ms/step - loss: 0.1613 - sparse_categorical_accuracy: 0.9517 - val_loss: 0.1196 - val_sparse_categorical_accuracy: 0.9650\n",
      "Epoch 5/15\n",
      "235/235 [==============================] - 2s 8ms/step - loss: 0.1402 - sparse_categorical_accuracy: 0.9572 - val_loss: 0.1142 - val_sparse_categorical_accuracy: 0.9662\n",
      "Epoch 6/15\n",
      "235/235 [==============================] - 3s 11ms/step - loss: 0.1269 - sparse_categorical_accuracy: 0.9620 - val_loss: 0.1061 - val_sparse_categorical_accuracy: 0.9682\n",
      "Epoch 7/15\n",
      "235/235 [==============================] - 3s 11ms/step - loss: 0.1124 - sparse_categorical_accuracy: 0.9656 - val_loss: 0.0996 - val_sparse_categorical_accuracy: 0.9705\n",
      "Epoch 8/15\n",
      "235/235 [==============================] - 2s 9ms/step - loss: 0.1056 - sparse_categorical_accuracy: 0.9674 - val_loss: 0.0976 - val_sparse_categorical_accuracy: 0.9734\n",
      "Epoch 9/15\n",
      "235/235 [==============================] - 2s 8ms/step - loss: 0.0983 - sparse_categorical_accuracy: 0.9688 - val_loss: 0.0924 - val_sparse_categorical_accuracy: 0.9738\n",
      "Epoch 10/15\n",
      "235/235 [==============================] - 2s 9ms/step - loss: 0.0904 - sparse_categorical_accuracy: 0.9716 - val_loss: 0.0825 - val_sparse_categorical_accuracy: 0.9755\n",
      "Epoch 11/15\n",
      "235/235 [==============================] - 2s 8ms/step - loss: 0.0854 - sparse_categorical_accuracy: 0.9727 - val_loss: 0.0835 - val_sparse_categorical_accuracy: 0.9736\n",
      "Epoch 12/15\n",
      "235/235 [==============================] - 2s 8ms/step - loss: 0.0827 - sparse_categorical_accuracy: 0.9736 - val_loss: 0.0831 - val_sparse_categorical_accuracy: 0.9758\n",
      "Epoch 13/15\n",
      "235/235 [==============================] - 2s 9ms/step - loss: 0.0788 - sparse_categorical_accuracy: 0.9748 - val_loss: 0.0845 - val_sparse_categorical_accuracy: 0.9753\n",
      "Epoch 14/15\n",
      "235/235 [==============================] - 2s 8ms/step - loss: 0.0744 - sparse_categorical_accuracy: 0.9762 - val_loss: 0.0815 - val_sparse_categorical_accuracy: 0.9764\n",
      "Epoch 15/15\n",
      "235/235 [==============================] - 2s 8ms/step - loss: 0.0704 - sparse_categorical_accuracy: 0.9767 - val_loss: 0.0820 - val_sparse_categorical_accuracy: 0.9763\n"
     ]
    }
   ],
   "source": [
    "history = model.fit(train, epochs=15, validation_data=test)"
   ]
  },
  {
   "cell_type": "code",
   "execution_count": 10,
   "id": "16ed973f",
   "metadata": {},
   "outputs": [],
   "source": [
    "model.save(f\"mlp.keras\")"
   ]
  },
  {
   "cell_type": "code",
   "execution_count": 11,
   "id": "2d65425e",
   "metadata": {},
   "outputs": [
    {
     "data": {
      "image/png": "[encoded data removed]",
      "text/plain": [
       "<Figure size 640x480 with 1 Axes>"
      ]
     },
     "metadata": {},
     "output_type": "display_data"
    }
   ],
   "source": [
    "plt.plot(history.history['sparse_categorical_accuracy'], color='green', label='Train')\n",
    "plt.plot(history.history['val_sparse_categorical_accuracy'], color='red', label='Validation')\n",
    "plt.title('Accuracy')\n",
    "plt.legend()\n",
    "plt.show()"
   ]
  }
 ],
 "metadata": {
  "kernelspec": {
   "display_name": "Python 3 (ipykernel)",
   "language": "python",
   "name": "python3"
  },
  "language_info": {
   "codemirror_mode": {
    "name": "ipython",
    "version": 3
   },
   "file_extension": ".py",
   "mimetype": "text/x-python",
   "name": "python",
   "nbconvert_exporter": "python",
   "pygments_lexer": "ipython3",
   "version": "3.10.4"
  }
 },
 "nbformat": 4,
 "nbformat_minor": 5
}
